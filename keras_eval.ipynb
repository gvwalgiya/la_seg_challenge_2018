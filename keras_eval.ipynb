{
 "cells": [
  {
   "cell_type": "code",
   "execution_count": 1,
   "metadata": {},
   "outputs": [
    {
     "name": "stderr",
     "output_type": "stream",
     "text": [
      "Using TensorFlow backend.\n"
     ]
    }
   ],
   "source": [
    "import matplotlib.pyplot as plt\n",
    "from keras.models import *\n",
    "import numpy as np\n",
    "from skimage.segmentation import mark_boundaries\n",
    "from skimage.morphology import remove_small_objects\n",
    "from scipy import stats\n",
    "%matplotlib inline"
   ]
  },
  {
   "cell_type": "code",
   "execution_count": 2,
   "metadata": {},
   "outputs": [],
   "source": [
    "model = load_model('keras_unet.hdf5')\n",
    "\n",
    "X_test = np.load(\"xtest.npy\")\n",
    "Y_test = np.load(\"ytest.npy\")"
   ]
  },
  {
   "cell_type": "code",
   "execution_count": 3,
   "metadata": {},
   "outputs": [],
   "source": [
    "# testshape = X_test.shape\n",
    "\n",
    "# print(testshape)\n",
    "\n",
    "# metrics = []\n",
    "# i=1\n",
    "# for x_img, y_img in zip(X_test, Y_test):\n",
    "#     print(i)\n",
    "#     i+=1\n",
    "#     x_reshape = np.reshape(x_img,(1,testshape[1],testshape[2],testshape[3]))\n",
    "#     y_reshape = np.reshape(y_img,(1,testshape[1],testshape[2],testshape[3]))\n",
    "#     metrics.append(model.evaluate(x_reshape, y_reshape, verbose=1))\n",
    "\n",
    "# print(np.average(metrics,axis=1))\n",
    "\n",
    "#model.evaluate(X_test, Y_test, verbose=1)  # Evaluate the trained model on the test set!"
   ]
  },
  {
   "cell_type": "code",
   "execution_count": 4,
   "metadata": {},
   "outputs": [
    {
     "name": "stdout",
     "output_type": "stream",
     "text": [
      "75/75 [==============================] - 137s 2s/step\n"
     ]
    }
   ],
   "source": [
    "imgs_mask_test = model.predict(X_test, batch_size=1, verbose=1)\n",
    "np.save('imgs_mask_test.npy', imgs_mask_test)"
   ]
  },
  {
   "cell_type": "code",
   "execution_count": 25,
   "metadata": {},
   "outputs": [
    {
     "name": "stderr",
     "output_type": "stream",
     "text": [
      "/usr/lib/python3.6/site-packages/skimage/morphology/misc.py:127: UserWarning: Only one label was provided to `remove_small_objects`. Did you mean to use a boolean array?\n",
      "  warn(\"Only one label was provided to `remove_small_objects`. \"\n",
      "/usr/lib/python3.6/site-packages/ipykernel_launcher.py:13: RuntimeWarning: invalid value encountered in long_scalars\n",
      "  del sys.path[0]\n"
     ]
    }
   ],
   "source": [
    "preds = np.load('imgs_mask_test.npy')\n",
    "preds = np.reshape(preds, preds.shape[0:3])\n",
    "realinput = np.reshape(X_test, preds.shape[0:3])\n",
    "realoutput = np.reshape(Y_test, preds.shape[0:3])\n",
    "error = []\n",
    "errortype = []\n",
    "for i in range(preds.shape[0]):\n",
    "    pred = preds[i] == np.max(preds[i])\n",
    "    pred = pred.astype(np.int)\n",
    "    remove_small_objects(pred, min_size=64, connectivity=1, in_place=True)\n",
    "    plt.imsave(\"predict/%d_pred.jpg\"%(i),mark_boundaries(realinput[i],pred))\n",
    "    plt.imsave(\"predict/%d_test.jpg\"%(i),mark_boundaries(realinput[i],realoutput[i]))\n",
    "    error.append(np.sum(np.abs(pred-realoutput[i]))/np.sum(realoutput[i]))\n",
    "    if np.sum(pred-realoutput[i]) > 0:\n",
    "        errortype.append(1)\n",
    "    else:\n",
    "        errortype.append(-1)"
   ]
  },
  {
   "cell_type": "code",
   "execution_count": 26,
   "metadata": {},
   "outputs": [
    {
     "data": {
      "text/plain": [
       "<BarContainer object of 2 artists>"
      ]
     },
     "execution_count": 26,
     "metadata": {},
     "output_type": "execute_result"
    },
    {
     "data": {
      "image/png": "[encoded data removed]",
      "text/plain": [
       "<Figure size 432x288 with 1 Axes>"
      ]
     },
     "metadata": {},
     "output_type": "display_data"
    }
   ],
   "source": [
    "unique, counts = np.unique(errortype, return_counts=True)\n",
    "plt.bar(unique,counts)"
   ]
  },
  {
   "cell_type": "code",
   "execution_count": 28,
   "metadata": {},
   "outputs": [
    {
     "data": {
      "text/plain": [
       "0.33359683794466405"
      ]
     },
     "execution_count": 28,
     "metadata": {},
     "output_type": "execute_result"
    }
   ],
   "source": [
    "np.average(error)"
   ]
  },
  {
   "cell_type": "code",
   "execution_count": 27,
   "metadata": {},
   "outputs": [],
   "source": [
    "error = error[error!=np.Inf]"
   ]
  },
  {
   "cell_type": "code",
   "execution_count": null,
   "metadata": {},
   "outputs": [],
   "source": []
  }
 ],
 "metadata": {
  "kernelspec": {
   "display_name": "Python 3",
   "language": "python",
   "name": "python3"
  },
  "language_info": {
   "codemirror_mode": {
    "name": "ipython",
    "version": 3
   },
   "file_extension": ".py",
   "mimetype": "text/x-python",
   "name": "python",
   "nbconvert_exporter": "python",
   "pygments_lexer": "ipython3",
   "version": "3.6.5"
  }
 },
 "nbformat": 4,
 "nbformat_minor": 2
}
